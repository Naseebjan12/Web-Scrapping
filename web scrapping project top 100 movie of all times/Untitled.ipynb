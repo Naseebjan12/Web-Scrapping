{
 "cells": [
  {
   "cell_type": "code",
   "execution_count": 1,
   "id": "a6313da9",
   "metadata": {},
   "outputs": [],
   "source": [
    "import requests\n",
    "from bs4 import BeautifulSoup"
   ]
  },
  {
   "cell_type": "code",
   "execution_count": 2,
   "id": "1d934125",
   "metadata": {},
   "outputs": [],
   "source": [
    "page_url='https://www.empireonline.com/movies/features/best-movies-2'\n",
    "# headers='Mozilla/5.0 (Windows NT 10.0; Win64; x64) AppleWebKit/537.36 (KHTML, like Gecko) Chrome/124.0.0.0 Safari/537.36'\n",
    "page_data=requests.get(page_url)\n",
    "content=page_data.text"
   ]
  },
  {
   "cell_type": "code",
   "execution_count": 3,
   "id": "9c527995",
   "metadata": {},
   "outputs": [],
   "source": [
    "with open('data.html','w') as f:\n",
    "    f.write(content)"
   ]
  },
  {
   "cell_type": "code",
   "execution_count": 4,
   "id": "385fc11a",
   "metadata": {},
   "outputs": [],
   "source": [
    "with open('data.html','r') as f:\n",
    "    raw_data=f.read()"
   ]
  },
  {
   "cell_type": "code",
   "execution_count": 5,
   "id": "e127c95d",
   "metadata": {},
   "outputs": [],
   "source": [
    "# making soup\n",
    "soup=BeautifulSoup(raw_data,'html.parser')\n"
   ]
  },
  {
   "cell_type": "code",
   "execution_count": 6,
   "id": "9fe2271d",
   "metadata": {},
   "outputs": [
    {
     "data": {
      "text/plain": [
       "'The 100 Best Movies Of All Time | Movies | %%channel_name%% '"
      ]
     },
     "execution_count": 6,
     "metadata": {},
     "output_type": "execute_result"
    }
   ],
   "source": [
    "# title of the page\n",
    "soup.title.text"
   ]
  },
  {
   "cell_type": "code",
   "execution_count": 7,
   "id": "ce3e16da",
   "metadata": {},
   "outputs": [],
   "source": [
    "# finding all movies heading using find all attributre of the beautifull soup\n",
    "all_movies=soup.find_all('h3')\n",
    "with open('movie.txt','w') as f:\n",
    "    for movie in all_movies:\n",
    "        movie=movie.text\n",
    "        \n",
    "        f.writelines(f'{movie} \\n')\n",
    "        \n",
    "        \n",
    "    "
   ]
  },
  {
   "cell_type": "code",
   "execution_count": 35,
   "id": "7e905ff1",
   "metadata": {},
   "outputs": [],
   "source": [
    "# The END "
   ]
  }
 ],
 "metadata": {
  "kernelspec": {
   "display_name": "Python 3 (ipykernel)",
   "language": "python",
   "name": "python3"
  },
  "language_info": {
   "codemirror_mode": {
    "name": "ipython",
    "version": 3
   },
   "file_extension": ".py",
   "mimetype": "text/x-python",
   "name": "python",
   "nbconvert_exporter": "python",
   "pygments_lexer": "ipython3",
   "version": "3.10.9"
  }
 },
 "nbformat": 4,
 "nbformat_minor": 5
}
